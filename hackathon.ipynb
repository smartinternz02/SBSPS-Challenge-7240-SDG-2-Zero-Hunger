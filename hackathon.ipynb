{
 "cells": [
  {
   "cell_type": "code",
   "execution_count": null,
   "metadata": {},
   "outputs": [],
   "source": [
    "## Multiple linear regression"
   ]
  },
  {
   "cell_type": "code",
   "execution_count": 2,
   "metadata": {},
   "outputs": [],
   "source": [
    "import matplotlib.pyplot as plt\n",
    "import pandas as pd\n",
    "import pylab as pl\n",
    "import numpy as np\n",
    "%matplotlib inline"
   ]
  },
  {
   "cell_type": "code",
   "execution_count": 3,
   "metadata": {},
   "outputs": [],
   "source": [
    "# imorting data set\n",
    "datasets = pd.read_csv('2016-17.csv')"
   ]
  },
  {
   "cell_type": "code",
   "execution_count": 4,
   "metadata": {},
   "outputs": [
    {
     "data": {
      "text/html": [
       "<div>\n",
       "<style scoped>\n",
       "    .dataframe tbody tr th:only-of-type {\n",
       "        vertical-align: middle;\n",
       "    }\n",
       "\n",
       "    .dataframe tbody tr th {\n",
       "        vertical-align: top;\n",
       "    }\n",
       "\n",
       "    .dataframe thead th {\n",
       "        text-align: right;\n",
       "    }\n",
       "</style>\n",
       "<table border=\"1\" class=\"dataframe\">\n",
       "  <thead>\n",
       "    <tr style=\"text-align: right;\">\n",
       "      <th></th>\n",
       "      <th>District</th>\n",
       "      <th>Ground nut</th>\n",
       "      <th>Bengal Gram</th>\n",
       "      <th>Maize</th>\n",
       "      <th>Rainfall</th>\n",
       "      <th>Avg temp</th>\n",
       "      <th>humidity</th>\n",
       "    </tr>\n",
       "  </thead>\n",
       "  <tbody>\n",
       "    <tr>\n",
       "      <th>0</th>\n",
       "      <td>ADILABAD</td>\n",
       "      <td>2068</td>\n",
       "      <td>1551</td>\n",
       "      <td>5712</td>\n",
       "      <td>2.040478</td>\n",
       "      <td>27.604044</td>\n",
       "      <td>57.256654</td>\n",
       "    </tr>\n",
       "    <tr>\n",
       "      <th>1</th>\n",
       "      <td>BHADRADRI</td>\n",
       "      <td>2186</td>\n",
       "      <td>1881</td>\n",
       "      <td>4917</td>\n",
       "      <td>1.912448</td>\n",
       "      <td>28.190647</td>\n",
       "      <td>60.220848</td>\n",
       "    </tr>\n",
       "    <tr>\n",
       "      <th>2</th>\n",
       "      <td>HYDERABAD</td>\n",
       "      <td>0</td>\n",
       "      <td>1299</td>\n",
       "      <td>5410</td>\n",
       "      <td>0.000000</td>\n",
       "      <td>28.157335</td>\n",
       "      <td>60.327238</td>\n",
       "    </tr>\n",
       "    <tr>\n",
       "      <th>3</th>\n",
       "      <td>JAGTIAL</td>\n",
       "      <td>1794</td>\n",
       "      <td>1173</td>\n",
       "      <td>6300</td>\n",
       "      <td>1.997002</td>\n",
       "      <td>27.864162</td>\n",
       "      <td>59.409688</td>\n",
       "    </tr>\n",
       "    <tr>\n",
       "      <th>4</th>\n",
       "      <td>JANGAON</td>\n",
       "      <td>1516</td>\n",
       "      <td>1558</td>\n",
       "      <td>5433</td>\n",
       "      <td>1.909680</td>\n",
       "      <td>27.833555</td>\n",
       "      <td>59.651009</td>\n",
       "    </tr>\n",
       "  </tbody>\n",
       "</table>\n",
       "</div>"
      ],
      "text/plain": [
       "    District  Ground nut  Bengal Gram  Maize  Rainfall   Avg temp   humidity\n",
       "0   ADILABAD        2068         1551   5712  2.040478  27.604044  57.256654\n",
       "1  BHADRADRI        2186         1881   4917  1.912448  28.190647  60.220848\n",
       "2  HYDERABAD           0         1299   5410  0.000000  28.157335  60.327238\n",
       "3    JAGTIAL        1794         1173   6300  1.997002  27.864162  59.409688\n",
       "4    JANGAON        1516         1558   5433  1.909680  27.833555  59.651009"
      ]
     },
     "execution_count": 4,
     "metadata": {},
     "output_type": "execute_result"
    }
   ],
   "source": [
    "datasets.head()"
   ]
  },
  {
   "cell_type": "code",
   "execution_count": 5,
   "metadata": {},
   "outputs": [
    {
     "data": {
      "text/html": [
       "<div>\n",
       "<style scoped>\n",
       "    .dataframe tbody tr th:only-of-type {\n",
       "        vertical-align: middle;\n",
       "    }\n",
       "\n",
       "    .dataframe tbody tr th {\n",
       "        vertical-align: top;\n",
       "    }\n",
       "\n",
       "    .dataframe thead th {\n",
       "        text-align: right;\n",
       "    }\n",
       "</style>\n",
       "<table border=\"1\" class=\"dataframe\">\n",
       "  <thead>\n",
       "    <tr style=\"text-align: right;\">\n",
       "      <th></th>\n",
       "      <th>Ground nut</th>\n",
       "      <th>Bengal Gram</th>\n",
       "      <th>Maize</th>\n",
       "      <th>Rainfall</th>\n",
       "      <th>Avg temp</th>\n",
       "      <th>humidity</th>\n",
       "    </tr>\n",
       "  </thead>\n",
       "  <tbody>\n",
       "    <tr>\n",
       "      <th>count</th>\n",
       "      <td>31.000000</td>\n",
       "      <td>31.000000</td>\n",
       "      <td>31.000000</td>\n",
       "      <td>31.000000</td>\n",
       "      <td>31.000000</td>\n",
       "      <td>31.000000</td>\n",
       "    </tr>\n",
       "    <tr>\n",
       "      <th>mean</th>\n",
       "      <td>1879.935484</td>\n",
       "      <td>1241.903226</td>\n",
       "      <td>4150.258065</td>\n",
       "      <td>2.091190</td>\n",
       "      <td>28.098623</td>\n",
       "      <td>61.600370</td>\n",
       "    </tr>\n",
       "    <tr>\n",
       "      <th>std</th>\n",
       "      <td>616.887182</td>\n",
       "      <td>381.600345</td>\n",
       "      <td>1907.126721</td>\n",
       "      <td>0.467440</td>\n",
       "      <td>0.698296</td>\n",
       "      <td>2.687195</td>\n",
       "    </tr>\n",
       "    <tr>\n",
       "      <th>min</th>\n",
       "      <td>0.000000</td>\n",
       "      <td>0.000000</td>\n",
       "      <td>0.000000</td>\n",
       "      <td>0.000000</td>\n",
       "      <td>26.947427</td>\n",
       "      <td>57.256654</td>\n",
       "    </tr>\n",
       "    <tr>\n",
       "      <th>25%</th>\n",
       "      <td>1740.500000</td>\n",
       "      <td>1299.000000</td>\n",
       "      <td>2708.000000</td>\n",
       "      <td>1.966927</td>\n",
       "      <td>27.572991</td>\n",
       "      <td>59.789479</td>\n",
       "    </tr>\n",
       "    <tr>\n",
       "      <th>50%</th>\n",
       "      <td>2066.000000</td>\n",
       "      <td>1299.000000</td>\n",
       "      <td>4917.000000</td>\n",
       "      <td>2.170238</td>\n",
       "      <td>28.082407</td>\n",
       "      <td>60.655948</td>\n",
       "    </tr>\n",
       "    <tr>\n",
       "      <th>75%</th>\n",
       "      <td>2068.000000</td>\n",
       "      <td>1319.500000</td>\n",
       "      <td>5616.000000</td>\n",
       "      <td>2.316836</td>\n",
       "      <td>28.528320</td>\n",
       "      <td>62.985528</td>\n",
       "    </tr>\n",
       "    <tr>\n",
       "      <th>max</th>\n",
       "      <td>3265.000000</td>\n",
       "      <td>1881.000000</td>\n",
       "      <td>6999.000000</td>\n",
       "      <td>2.662466</td>\n",
       "      <td>29.308504</td>\n",
       "      <td>68.182998</td>\n",
       "    </tr>\n",
       "  </tbody>\n",
       "</table>\n",
       "</div>"
      ],
      "text/plain": [
       "        Ground nut  Bengal Gram        Maize   Rainfall   Avg temp   humidity\n",
       "count    31.000000    31.000000    31.000000  31.000000  31.000000  31.000000\n",
       "mean   1879.935484  1241.903226  4150.258065   2.091190  28.098623  61.600370\n",
       "std     616.887182   381.600345  1907.126721   0.467440   0.698296   2.687195\n",
       "min       0.000000     0.000000     0.000000   0.000000  26.947427  57.256654\n",
       "25%    1740.500000  1299.000000  2708.000000   1.966927  27.572991  59.789479\n",
       "50%    2066.000000  1299.000000  4917.000000   2.170238  28.082407  60.655948\n",
       "75%    2068.000000  1319.500000  5616.000000   2.316836  28.528320  62.985528\n",
       "max    3265.000000  1881.000000  6999.000000   2.662466  29.308504  68.182998"
      ]
     },
     "execution_count": 5,
     "metadata": {},
     "output_type": "execute_result"
    }
   ],
   "source": [
    "datasets.describe()"
   ]
  },
  {
   "cell_type": "code",
   "execution_count": 6,
   "metadata": {},
   "outputs": [
    {
     "data": {
      "text/html": [
       "<div>\n",
       "<style scoped>\n",
       "    .dataframe tbody tr th:only-of-type {\n",
       "        vertical-align: middle;\n",
       "    }\n",
       "\n",
       "    .dataframe tbody tr th {\n",
       "        vertical-align: top;\n",
       "    }\n",
       "\n",
       "    .dataframe thead th {\n",
       "        text-align: right;\n",
       "    }\n",
       "</style>\n",
       "<table border=\"1\" class=\"dataframe\">\n",
       "  <thead>\n",
       "    <tr style=\"text-align: right;\">\n",
       "      <th></th>\n",
       "      <th>District</th>\n",
       "      <th>groundnut</th>\n",
       "      <th>bengalgram</th>\n",
       "      <th>Maize</th>\n",
       "      <th>Rainfall</th>\n",
       "      <th>avgtemp</th>\n",
       "      <th>humidity</th>\n",
       "    </tr>\n",
       "  </thead>\n",
       "  <tbody>\n",
       "    <tr>\n",
       "      <th>0</th>\n",
       "      <td>ADILABAD</td>\n",
       "      <td>2068</td>\n",
       "      <td>1551</td>\n",
       "      <td>5712</td>\n",
       "      <td>2.040478</td>\n",
       "      <td>27.604044</td>\n",
       "      <td>57.256654</td>\n",
       "    </tr>\n",
       "    <tr>\n",
       "      <th>1</th>\n",
       "      <td>BHADRADRI</td>\n",
       "      <td>2186</td>\n",
       "      <td>1881</td>\n",
       "      <td>4917</td>\n",
       "      <td>1.912448</td>\n",
       "      <td>28.190647</td>\n",
       "      <td>60.220848</td>\n",
       "    </tr>\n",
       "    <tr>\n",
       "      <th>2</th>\n",
       "      <td>HYDERABAD</td>\n",
       "      <td>0</td>\n",
       "      <td>1299</td>\n",
       "      <td>5410</td>\n",
       "      <td>0.000000</td>\n",
       "      <td>28.157335</td>\n",
       "      <td>60.327238</td>\n",
       "    </tr>\n",
       "    <tr>\n",
       "      <th>3</th>\n",
       "      <td>JAGTIAL</td>\n",
       "      <td>1794</td>\n",
       "      <td>1173</td>\n",
       "      <td>6300</td>\n",
       "      <td>1.997002</td>\n",
       "      <td>27.864162</td>\n",
       "      <td>59.409688</td>\n",
       "    </tr>\n",
       "    <tr>\n",
       "      <th>4</th>\n",
       "      <td>JANGAON</td>\n",
       "      <td>1516</td>\n",
       "      <td>1558</td>\n",
       "      <td>5433</td>\n",
       "      <td>1.909680</td>\n",
       "      <td>27.833555</td>\n",
       "      <td>59.651009</td>\n",
       "    </tr>\n",
       "  </tbody>\n",
       "</table>\n",
       "</div>"
      ],
      "text/plain": [
       "    District  groundnut  bengalgram  Maize  Rainfall    avgtemp   humidity\n",
       "0   ADILABAD       2068        1551   5712  2.040478  27.604044  57.256654\n",
       "1  BHADRADRI       2186        1881   4917  1.912448  28.190647  60.220848\n",
       "2  HYDERABAD          0        1299   5410  0.000000  28.157335  60.327238\n",
       "3    JAGTIAL       1794        1173   6300  1.997002  27.864162  59.409688\n",
       "4    JANGAON       1516        1558   5433  1.909680  27.833555  59.651009"
      ]
     },
     "execution_count": 6,
     "metadata": {},
     "output_type": "execute_result"
    }
   ],
   "source": [
    "datasets = datasets.rename(columns=({'Ground nut':'groundnut','Bengal Gram':'bengalgram','Avg temp':'avgtemp'}))\n",
    "datasets.head()"
   ]
  },
  {
   "cell_type": "code",
   "execution_count": 7,
   "metadata": {},
   "outputs": [
    {
     "data": {
      "text/html": [
       "<div>\n",
       "<style scoped>\n",
       "    .dataframe tbody tr th:only-of-type {\n",
       "        vertical-align: middle;\n",
       "    }\n",
       "\n",
       "    .dataframe tbody tr th {\n",
       "        vertical-align: top;\n",
       "    }\n",
       "\n",
       "    .dataframe thead th {\n",
       "        text-align: right;\n",
       "    }\n",
       "</style>\n",
       "<table border=\"1\" class=\"dataframe\">\n",
       "  <thead>\n",
       "    <tr style=\"text-align: right;\">\n",
       "      <th></th>\n",
       "      <th>groundnut</th>\n",
       "      <th>bengalgram</th>\n",
       "      <th>Maize</th>\n",
       "      <th>Rainfall</th>\n",
       "      <th>Rainfall</th>\n",
       "      <th>avgtemp</th>\n",
       "      <th>humidity</th>\n",
       "    </tr>\n",
       "  </thead>\n",
       "  <tbody>\n",
       "    <tr>\n",
       "      <th>0</th>\n",
       "      <td>2068</td>\n",
       "      <td>1551</td>\n",
       "      <td>5712</td>\n",
       "      <td>2.040478</td>\n",
       "      <td>2.040478</td>\n",
       "      <td>27.604044</td>\n",
       "      <td>57.256654</td>\n",
       "    </tr>\n",
       "    <tr>\n",
       "      <th>1</th>\n",
       "      <td>2186</td>\n",
       "      <td>1881</td>\n",
       "      <td>4917</td>\n",
       "      <td>1.912448</td>\n",
       "      <td>1.912448</td>\n",
       "      <td>28.190647</td>\n",
       "      <td>60.220848</td>\n",
       "    </tr>\n",
       "    <tr>\n",
       "      <th>2</th>\n",
       "      <td>0</td>\n",
       "      <td>1299</td>\n",
       "      <td>5410</td>\n",
       "      <td>0.000000</td>\n",
       "      <td>0.000000</td>\n",
       "      <td>28.157335</td>\n",
       "      <td>60.327238</td>\n",
       "    </tr>\n",
       "    <tr>\n",
       "      <th>3</th>\n",
       "      <td>1794</td>\n",
       "      <td>1173</td>\n",
       "      <td>6300</td>\n",
       "      <td>1.997002</td>\n",
       "      <td>1.997002</td>\n",
       "      <td>27.864162</td>\n",
       "      <td>59.409688</td>\n",
       "    </tr>\n",
       "    <tr>\n",
       "      <th>4</th>\n",
       "      <td>1516</td>\n",
       "      <td>1558</td>\n",
       "      <td>5433</td>\n",
       "      <td>1.909680</td>\n",
       "      <td>1.909680</td>\n",
       "      <td>27.833555</td>\n",
       "      <td>59.651009</td>\n",
       "    </tr>\n",
       "    <tr>\n",
       "      <th>5</th>\n",
       "      <td>2151</td>\n",
       "      <td>1299</td>\n",
       "      <td>5251</td>\n",
       "      <td>1.783163</td>\n",
       "      <td>1.783163</td>\n",
       "      <td>27.541939</td>\n",
       "      <td>59.700592</td>\n",
       "    </tr>\n",
       "    <tr>\n",
       "      <th>6</th>\n",
       "      <td>2025</td>\n",
       "      <td>1299</td>\n",
       "      <td>6306</td>\n",
       "      <td>1.969155</td>\n",
       "      <td>1.969155</td>\n",
       "      <td>28.082407</td>\n",
       "      <td>61.858785</td>\n",
       "    </tr>\n",
       "    <tr>\n",
       "      <th>7</th>\n",
       "      <td>2068</td>\n",
       "      <td>1299</td>\n",
       "      <td>5103</td>\n",
       "      <td>2.526276</td>\n",
       "      <td>2.526276</td>\n",
       "      <td>28.390276</td>\n",
       "      <td>63.275337</td>\n",
       "    </tr>\n",
       "    <tr>\n",
       "      <th>8</th>\n",
       "      <td>2411</td>\n",
       "      <td>0</td>\n",
       "      <td>6076</td>\n",
       "      <td>1.505719</td>\n",
       "      <td>1.505719</td>\n",
       "      <td>28.840547</td>\n",
       "      <td>66.973638</td>\n",
       "    </tr>\n",
       "  </tbody>\n",
       "</table>\n",
       "</div>"
      ],
      "text/plain": [
       "   groundnut  bengalgram  Maize  Rainfall  Rainfall    avgtemp   humidity\n",
       "0       2068        1551   5712  2.040478  2.040478  27.604044  57.256654\n",
       "1       2186        1881   4917  1.912448  1.912448  28.190647  60.220848\n",
       "2          0        1299   5410  0.000000  0.000000  28.157335  60.327238\n",
       "3       1794        1173   6300  1.997002  1.997002  27.864162  59.409688\n",
       "4       1516        1558   5433  1.909680  1.909680  27.833555  59.651009\n",
       "5       2151        1299   5251  1.783163  1.783163  27.541939  59.700592\n",
       "6       2025        1299   6306  1.969155  1.969155  28.082407  61.858785\n",
       "7       2068        1299   5103  2.526276  2.526276  28.390276  63.275337\n",
       "8       2411           0   6076  1.505719  1.505719  28.840547  66.973638"
      ]
     },
     "execution_count": 7,
     "metadata": {},
     "output_type": "execute_result"
    }
   ],
   "source": [
    "cdf = datasets[['groundnut','bengalgram','Maize','Rainfall','Rainfall','avgtemp','humidity']]\n",
    "cdf.head(9)"
   ]
  },
  {
   "cell_type": "code",
   "execution_count": 8,
   "metadata": {},
   "outputs": [
    {
     "data": {
      "image/png": "[encoded data removed]",
      "text/plain": [
       "<Figure size 432x288 with 9 Axes>"
      ]
     },
     "metadata": {
      "needs_background": "light"
     },
     "output_type": "display_data"
    }
   ],
   "source": [
    "viz = cdf[['groundnut','bengalgram','Maize','Rainfall','Rainfall','avgtemp','humidity']]\n",
    "viz.hist()\n",
    "plt.show()"
   ]
  },
  {
   "cell_type": "code",
   "execution_count": 10,
   "metadata": {},
   "outputs": [
    {
     "data": {
      "text/plain": [
       "<AxesSubplot:>"
      ]
     },
     "execution_count": 10,
     "metadata": {},
     "output_type": "execute_result"
    },
    {
     "data": {
      "image/png": "[encoded data removed]",
      "text/plain": [
       "<Figure size 432x288 with 1 Axes>"
      ]
     },
     "metadata": {
      "needs_background": "light"
     },
     "output_type": "display_data"
    }
   ],
   "source": [
    "datasets.plot()"
   ]
  },
  {
   "cell_type": "code",
   "execution_count": 11,
   "metadata": {},
   "outputs": [
    {
     "data": {
      "text/plain": [
       "<AxesSubplot:xlabel='Rainfall', ylabel='groundnut'>"
      ]
     },
     "execution_count": 11,
     "metadata": {},
     "output_type": "execute_result"
    },
    {
     "data": {
      "image/png": "[encoded data removed]",
      "text/plain": [
       "<Figure size 432x288 with 1 Axes>"
      ]
     },
     "metadata": {
      "needs_background": "light"
     },
     "output_type": "display_data"
    }
   ],
   "source": [
    "datasets.plot(kind='scatter',x='Rainfall',y='groundnut')"
   ]
  },
  {
   "cell_type": "code",
   "execution_count": 12,
   "metadata": {},
   "outputs": [
    {
     "data": {
      "text/plain": [
       "<AxesSubplot:ylabel='Density'>"
      ]
     },
     "execution_count": 12,
     "metadata": {},
     "output_type": "execute_result"
    },
    {
     "data": {
      "image/png": "[encoded data removed]",
      "text/plain": [
       "<Figure size 432x288 with 1 Axes>"
      ]
     },
     "metadata": {
      "needs_background": "light"
     },
     "output_type": "display_data"
    }
   ],
   "source": [
    "datasets.plot(kind='density')"
   ]
  },
  {
   "cell_type": "code",
   "execution_count": 13,
   "metadata": {},
   "outputs": [
    {
     "data": {
      "text/plain": [
       "<AxesSubplot:ylabel='Frequency'>"
      ]
     },
     "execution_count": 13,
     "metadata": {},
     "output_type": "execute_result"
    },
    {
     "data": {
      "image/png": "[encoded data removed]",
      "text/plain": [
       "<Figure size 432x288 with 1 Axes>"
      ]
     },
     "metadata": {
      "needs_background": "light"
     },
     "output_type": "display_data"
    }
   ],
   "source": [
    "datasets.plot(kind='hist')"
   ]
  },
  {
   "cell_type": "code",
   "execution_count": 14,
   "metadata": {},
   "outputs": [
    {
     "data": {
      "text/plain": [
       "<AxesSubplot:xlabel='Rainfall', ylabel='bengalgram'>"
      ]
     },
     "execution_count": 14,
     "metadata": {},
     "output_type": "execute_result"
    },
    {
     "data": {
      "image/png": "[encoded data removed]",
      "text/plain": [
       "<Figure size 432x288 with 1 Axes>"
      ]
     },
     "metadata": {
      "needs_background": "light"
     },
     "output_type": "display_data"
    }
   ],
   "source": [
    "datasets.plot(kind='scatter',x='Rainfall',y='bengalgram')"
   ]
  },
  {
   "cell_type": "code",
   "execution_count": 15,
   "metadata": {},
   "outputs": [
    {
     "data": {
      "text/plain": [
       "<AxesSubplot:xlabel='Rainfall', ylabel='Maize'>"
      ]
     },
     "execution_count": 15,
     "metadata": {},
     "output_type": "execute_result"
    },
    {
     "data": {
      "image/png": "[encoded data removed]",
      "text/plain": [
       "<Figure size 432x288 with 1 Axes>"
      ]
     },
     "metadata": {
      "needs_background": "light"
     },
     "output_type": "display_data"
    }
   ],
   "source": [
    "datasets.plot(kind='scatter',x='Rainfall',y='Maize')"
   ]
  },
  {
   "cell_type": "code",
   "execution_count": 16,
   "metadata": {},
   "outputs": [
    {
     "data": {
      "text/plain": [
       "<AxesSubplot:xlabel='avgtemp', ylabel='Maize'>"
      ]
     },
     "execution_count": 16,
     "metadata": {},
     "output_type": "execute_result"
    },
    {
     "data": {
      "image/png": "[encoded data removed]",
      "text/plain": [
       "<Figure size 432x288 with 1 Axes>"
      ]
     },
     "metadata": {
      "needs_background": "light"
     },
     "output_type": "display_data"
    },
    {
     "data": {
      "image/png": "[encoded data removed]",
      "text/plain": [
       "<Figure size 432x288 with 1 Axes>"
      ]
     },
     "metadata": {
      "needs_background": "light"
     },
     "output_type": "display_data"
    },
    {
     "data": {
      "image/png": "[encoded data removed]",
      "text/plain": [
       "<Figure size 432x288 with 1 Axes>"
      ]
     },
     "metadata": {
      "needs_background": "light"
     },
     "output_type": "display_data"
    }
   ],
   "source": [
    "datasets.plot(kind='scatter',x='avgtemp',y='groundnut')\n",
    "datasets.plot(kind='scatter',x='avgtemp',y='bengalgram')\n",
    "datasets.plot(kind='scatter',x='avgtemp',y='Maize')"
   ]
  },
  {
   "cell_type": "code",
   "execution_count": 17,
   "metadata": {},
   "outputs": [
    {
     "data": {
      "text/plain": [
       "<AxesSubplot:xlabel='humidity', ylabel='Maize'>"
      ]
     },
     "execution_count": 17,
     "metadata": {},
     "output_type": "execute_result"
    },
    {
     "data": {
      "image/png": "[encoded data removed]",
      "text/plain": [
       "<Figure size 432x288 with 1 Axes>"
      ]
     },
     "metadata": {
      "needs_background": "light"
     },
     "output_type": "display_data"
    },
    {
     "data": {
      "image/png": "[encoded data removed]",
      "text/plain": [
       "<Figure size 432x288 with 1 Axes>"
      ]
     },
     "metadata": {
      "needs_background": "light"
     },
     "output_type": "display_data"
    },
    {
     "data": {
      "image/png": "[encoded data removed]",
      "text/plain": [
       "<Figure size 432x288 with 1 Axes>"
      ]
     },
     "metadata": {
      "needs_background": "light"
     },
     "output_type": "display_data"
    }
   ],
   "source": [
    "datasets.plot(kind='scatter',x='humidity',y='groundnut')\n",
    "datasets.plot(kind='scatter',x='humidity',y='bengalgram')\n",
    "datasets.plot(kind='scatter',x='humidity',y='Maize')"
   ]
  },
  {
   "cell_type": "code",
   "execution_count": 19,
   "metadata": {},
   "outputs": [],
   "source": [
    "msk = np.random.rand(len(datasets)) < 0.8\n",
    "train = cdf[msk]\n",
    "test = cdf[~msk]"
   ]
  },
  {
   "cell_type": "code",
   "execution_count": 21,
   "metadata": {},
   "outputs": [
    {
     "data": {
      "image/png": "[encoded data removed]",
      "text/plain": [
       "<Figure size 432x288 with 1 Axes>"
      ]
     },
     "metadata": {
      "needs_background": "light"
     },
     "output_type": "display_data"
    }
   ],
   "source": [
    "plt.scatter(train.humidity, train.groundnut, color='blue')\n",
    "plt.xlabel(\"humidity\")\n",
    "plt.ylabel(\"groundnut\")\n",
    "plt.show()"
   ]
  },
  {
   "cell_type": "code",
   "execution_count": 23,
   "metadata": {},
   "outputs": [
    {
     "data": {
      "image/png": "[encoded data removed]",
      "text/plain": [
       "<Figure size 432x288 with 1 Axes>"
      ]
     },
     "metadata": {
      "needs_background": "light"
     },
     "output_type": "display_data"
    }
   ],
   "source": [
    "plt.scatter(train.avgtemp, train.groundnut, color='blue')\n",
    "plt.xlabel(\"avgtemp\")\n",
    "plt.ylabel(\"groundnut\")\n",
    "plt.show()"
   ]
  },
  {
   "cell_type": "code",
   "execution_count": 28,
   "metadata": {},
   "outputs": [
    {
     "name": "stdout",
     "output_type": "stream",
     "text": [
      "Coefficients:  [[366.59060839 366.59060839  75.7798973  -26.47089761]]\n"
     ]
    }
   ],
   "source": [
    "from sklearn import linear_model\n",
    "regr = linear_model.LinearRegression()\n",
    "x = np.asanyarray(train[['Rainfall','humidity','avgtemp']])\n",
    "y = np.asanyarray(train[['groundnut']])\n",
    "regr.fit (x, y)\n",
    "# The coefficients\n",
    "print ('Coefficients: ', regr.coef_)"
   ]
  },
  {
   "cell_type": "code",
   "execution_count": 29,
   "metadata": {},
   "outputs": [
    {
     "name": "stdout",
     "output_type": "stream",
     "text": [
      "Residual sum of squares: 50167.51\n",
      "Variance score: 0.50\n"
     ]
    }
   ],
   "source": [
    "y_hat= regr.predict(test[['Rainfall','humidity','avgtemp']])\n",
    "x = np.asanyarray(test[['Rainfall','humidity','avgtemp']])\n",
    "y = np.asanyarray(test[['groundnut']])\n",
    "print(\"Residual sum of squares: %.2f\"\n",
    "      % np.mean((y_hat - y) ** 2))\n",
    "\n",
    "# Explained variance score: 1 is perfect prediction\n",
    "print('Variance score: %.2f' % regr.score(x, y))"
   ]
  },
  {
   "cell_type": "code",
   "execution_count": 30,
   "metadata": {},
   "outputs": [
    {
     "name": "stdout",
     "output_type": "stream",
     "text": [
      "Coefficients:  [[  62.15353541   62.15353541 -151.34535112  453.09256786]]\n"
     ]
    }
   ],
   "source": [
    "from sklearn import linear_model\n",
    "regr = linear_model.LinearRegression()\n",
    "x = np.asanyarray(train[['Rainfall','humidity','avgtemp']])\n",
    "y = np.asanyarray(train[['bengalgram']])\n",
    "regr.fit (x, y)\n",
    "# The coefficients\n",
    "print ('Coefficients: ', regr.coef_)"
   ]
  },
  {
   "cell_type": "code",
   "execution_count": 31,
   "metadata": {},
   "outputs": [
    {
     "name": "stdout",
     "output_type": "stream",
     "text": [
      "Residual sum of squares: 97369.91\n",
      "Variance score: -4.24\n"
     ]
    }
   ],
   "source": [
    "y_hat= regr.predict(test[['Rainfall','humidity','avgtemp']])\n",
    "x = np.asanyarray(test[['Rainfall','humidity','avgtemp']])\n",
    "y = np.asanyarray(test[['bengalgram']])\n",
    "print(\"Residual sum of squares: %.2f\"\n",
    "      % np.mean((y_hat - y) ** 2))\n",
    "\n",
    "# Explained variance score: 1 is perfect prediction\n",
    "print('Variance score: %.2f' % regr.score(x, y))"
   ]
  },
  {
   "cell_type": "code",
   "execution_count": 32,
   "metadata": {},
   "outputs": [
    {
     "name": "stdout",
     "output_type": "stream",
     "text": [
      "Coefficients:  [[-569.14105232 -569.14105232  -49.96697455  338.74541159]]\n"
     ]
    }
   ],
   "source": [
    "from sklearn import linear_model\n",
    "regr = linear_model.LinearRegression()\n",
    "x = np.asanyarray(train[['Rainfall','humidity','avgtemp']])\n",
    "y = np.asanyarray(train[['Maize']])\n",
    "regr.fit (x, y)\n",
    "# The coefficients\n",
    "print ('Coefficients: ', regr.coef_)"
   ]
  },
  {
   "cell_type": "code",
   "execution_count": 33,
   "metadata": {},
   "outputs": [
    {
     "name": "stdout",
     "output_type": "stream",
     "text": [
      "Residual sum of squares: 3041029.03\n",
      "Variance score: -0.05\n"
     ]
    }
   ],
   "source": [
    "y_hat= regr.predict(test[['Rainfall','humidity','avgtemp']])\n",
    "x = np.asanyarray(test[['Rainfall','humidity','avgtemp']])\n",
    "y = np.asanyarray(test[['Maize']])\n",
    "print(\"Residual sum of squares: %.2f\"\n",
    "      % np.mean((y_hat - y) ** 2))\n",
    "\n",
    "# Explained variance score: 1 is perfect prediction\n",
    "print('Variance score: %.2f' % regr.score(x, y))"
   ]
  },
  {
   "cell_type": "code",
   "execution_count": null,
   "metadata": {},
   "outputs": [],
   "source": []
  }
 ],
 "metadata": {
  "kernelspec": {
   "display_name": "Python 3",
   "language": "python",
   "name": "python3"
  },
  "language_info": {
   "codemirror_mode": {
    "name": "ipython",
    "version": 3
   },
   "file_extension": ".py",
   "mimetype": "text/x-python",
   "name": "python",
   "nbconvert_exporter": "python",
   "pygments_lexer": "ipython3",
   "version": "3.8.5"
  }
 },
 "nbformat": 4,
 "nbformat_minor": 4
}
